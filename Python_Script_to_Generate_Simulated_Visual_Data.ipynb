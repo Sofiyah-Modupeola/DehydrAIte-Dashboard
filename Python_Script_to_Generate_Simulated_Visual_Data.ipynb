{
  "cells": [
    {
      "cell_type": "markdown",
      "metadata": {
        "id": "view-in-github",
        "colab_type": "text"
      },
      "source": [
        "<a href=\"https://colab.research.google.com/github/Sofiyah-Modupeola/DehydrAIte-Dashboard/blob/main/Python_Script_to_Generate_Simulated_Visual_Data.ipynb\" target=\"_parent\"><img src=\"https://colab.research.google.com/assets/colab-badge.svg\" alt=\"Open In Colab\"/></a>"
      ]
    },
    {
      "cell_type": "code",
      "source": [
        "import os\n",
        "from PIL import Image, ImageDraw, ImageFont\n",
        "import numpy as np\n",
        "\n",
        "# --- Configuration ---\n",
        "OUTPUT_DIR = \"simulated_drying_images\"\n",
        "IMAGE_SIZE = (600, 400) # Width, Height\n",
        "FONT_SIZE = 40\n",
        "TEXT_COLOR = (0, 0, 0) # Black\n",
        "\n",
        "# Define produce types and their drying stages/anomaly types\n",
        "PRODUCE_TYPES = {\n",
        "    'Tomato Slices': {\n",
        "        'fresh': (254, 226, 226), # Light Red\n",
        "        'partially_dry': (252, 211, 77), # Orange/Yellow\n",
        "        'fully_dry': (156, 163, 175), # Greyish\n",
        "        'mold': (239, 68, 68), # Red for alert\n",
        "        'discoloration': (220, 38, 38) # Darker Red for alert\n",
        "    },\n",
        "    'Habanero Peppers': {\n",
        "        'fresh': (253, 186, 116), # Light Orange\n",
        "        'partially_dry': (251, 146, 60), # Orange\n",
        "        'fully_dry': (124, 45, 18), # Dark Brown\n",
        "        'mold': (239, 68, 68), # Red for alert\n",
        "        'discoloration': (220, 38, 38) # Darker Red for alert\n",
        "    },\n",
        "    'Onion Slices': {\n",
        "        'fresh': (229, 231, 235), # Light Grey\n",
        "        'partially_dry': (209, 213, 219), # Mid Grey\n",
        "        'fully_dry': (107, 114, 128), # Dark Grey\n",
        "        'mold': (239, 68, 68), # Red for alert\n",
        "        'discoloration': (220, 38, 38) # Darker Red for alert\n",
        "    }\n",
        "}\n",
        "\n",
        "# --- Helper Function to Create Image ---\n",
        "def create_image(text, color, filename):\n",
        "    \"\"\"Generates a simple image with text and a background color.\"\"\"\n",
        "    img = Image.new('RGB', IMAGE_SIZE, color)\n",
        "    draw = ImageDraw.Draw(img)\n",
        "\n",
        "    # Try to load a default font, fall back if not found\n",
        "    try:\n",
        "        font = ImageFont.truetype(\"arial.ttf\", FONT_SIZE) # Common Windows font\n",
        "    except IOError:\n",
        "        font = ImageFont.load_default() # Fallback\n",
        "\n",
        "    # Calculate text size and position to center it\n",
        "    bbox = draw.textbbox((0, 0), text, font=font)\n",
        "    text_width = bbox[2] - bbox[0]\n",
        "    text_height = bbox[3] - bbox[1]\n",
        "    x = (IMAGE_SIZE[0] - text_width) / 2\n",
        "    y = (IMAGE_SIZE[1] - text_height) / 2\n",
        "\n",
        "    draw.text((x, y), text, fill=TEXT_COLOR, font=font)\n",
        "    img.save(filename)\n",
        "    print(f\"Generated {filename}\")\n",
        "\n",
        "# --- Main Generation Logic ---\n",
        "def generate_visual_data():\n",
        "    if not os.path.exists(OUTPUT_DIR):\n",
        "        os.makedirs(OUTPUT_DIR)\n",
        "        print(f\"Created output directory: {OUTPUT_DIR}\")\n",
        "\n",
        "    for produce_type, stages in PRODUCE_TYPES.items():\n",
        "        base_name = produce_type.replace(\" \", \"_\").lower()\n",
        "        for stage, color in stages.items():\n",
        "            filename = os.path.join(OUTPUT_DIR, f\"{base_name}_{stage}.jpg\")\n",
        "            text = f\"{produce_type}\\n({stage.replace('_', ' ').title()})\"\n",
        "            create_image(text, color, filename)\n",
        "\n",
        "    print(f\"\\nAll simulated visual data generated in '{OUTPUT_DIR}' folder.\")\n",
        "\n",
        "if __name__ == \"__main__\":\n",
        "    generate_visual_data()"
      ],
      "outputs": [
        {
          "output_type": "stream",
          "name": "stdout",
          "text": [
            "Created output directory: simulated_drying_images\n",
            "Generated simulated_drying_images/tomato_slices_fresh.jpg\n",
            "Generated simulated_drying_images/tomato_slices_partially_dry.jpg\n",
            "Generated simulated_drying_images/tomato_slices_fully_dry.jpg\n",
            "Generated simulated_drying_images/tomato_slices_mold.jpg\n",
            "Generated simulated_drying_images/tomato_slices_discoloration.jpg\n",
            "Generated simulated_drying_images/habanero_peppers_fresh.jpg\n",
            "Generated simulated_drying_images/habanero_peppers_partially_dry.jpg\n",
            "Generated simulated_drying_images/habanero_peppers_fully_dry.jpg\n",
            "Generated simulated_drying_images/habanero_peppers_mold.jpg\n",
            "Generated simulated_drying_images/habanero_peppers_discoloration.jpg\n",
            "Generated simulated_drying_images/onion_slices_fresh.jpg\n",
            "Generated simulated_drying_images/onion_slices_partially_dry.jpg\n",
            "Generated simulated_drying_images/onion_slices_fully_dry.jpg\n",
            "Generated simulated_drying_images/onion_slices_mold.jpg\n",
            "Generated simulated_drying_images/onion_slices_discoloration.jpg\n",
            "\n",
            "All simulated visual data generated in 'simulated_drying_images' folder.\n"
          ]
        }
      ],
      "execution_count": null,
      "metadata": {
        "colab": {
          "base_uri": "https://localhost:8080/"
        },
        "id": "KamkBv7xQlyq",
        "outputId": "4920a385-aa77-4bba-c921-9b19df98629b"
      }
    },
    {
      "cell_type": "code",
      "source": [
        "import shutil\n",
        "from google.colab import files\n",
        "\n",
        "# Path to the folder you want to zip (it's in the current working directory by default)\n",
        "folder_to_zip = 'simulated_drying_images'\n",
        "output_zip_name = 'simulated_drying_images.zip'\n",
        "\n",
        "# Create the zip file\n",
        "shutil.make_archive(folder_to_zip, 'zip', folder_to_zip)\n",
        "\n",
        "# Download the zip file to your local computer\n",
        "files.download(output_zip_name)"
      ],
      "metadata": {
        "id": "e2ibPtltSPpm",
        "outputId": "2a7cca43-1408-47ce-f14c-ec3c15e48a7e",
        "colab": {
          "base_uri": "https://localhost:8080/",
          "height": 17
        }
      },
      "execution_count": null,
      "outputs": [
        {
          "output_type": "display_data",
          "data": {
            "text/plain": [
              "<IPython.core.display.Javascript object>"
            ],
            "application/javascript": [
              "\n",
              "    async function download(id, filename, size) {\n",
              "      if (!google.colab.kernel.accessAllowed) {\n",
              "        return;\n",
              "      }\n",
              "      const div = document.createElement('div');\n",
              "      const label = document.createElement('label');\n",
              "      label.textContent = `Downloading \"${filename}\": `;\n",
              "      div.appendChild(label);\n",
              "      const progress = document.createElement('progress');\n",
              "      progress.max = size;\n",
              "      div.appendChild(progress);\n",
              "      document.body.appendChild(div);\n",
              "\n",
              "      const buffers = [];\n",
              "      let downloaded = 0;\n",
              "\n",
              "      const channel = await google.colab.kernel.comms.open(id);\n",
              "      // Send a message to notify the kernel that we're ready.\n",
              "      channel.send({})\n",
              "\n",
              "      for await (const message of channel.messages) {\n",
              "        // Send a message to notify the kernel that we're ready.\n",
              "        channel.send({})\n",
              "        if (message.buffers) {\n",
              "          for (const buffer of message.buffers) {\n",
              "            buffers.push(buffer);\n",
              "            downloaded += buffer.byteLength;\n",
              "            progress.value = downloaded;\n",
              "          }\n",
              "        }\n",
              "      }\n",
              "      const blob = new Blob(buffers, {type: 'application/binary'});\n",
              "      const a = document.createElement('a');\n",
              "      a.href = window.URL.createObjectURL(blob);\n",
              "      a.download = filename;\n",
              "      div.appendChild(a);\n",
              "      a.click();\n",
              "      div.remove();\n",
              "    }\n",
              "  "
            ]
          },
          "metadata": {}
        },
        {
          "output_type": "display_data",
          "data": {
            "text/plain": [
              "<IPython.core.display.Javascript object>"
            ],
            "application/javascript": [
              "download(\"download_b40ad91f-c975-42e9-8012-45e154cbdd4e\", \"simulated_drying_images.zip\", 21740)"
            ]
          },
          "metadata": {}
        }
      ]
    }
  ],
  "metadata": {
    "colab": {
      "provenance": [],
      "include_colab_link": true
    },
    "kernelspec": {
      "display_name": "Python 3",
      "name": "python3"
    }
  },
  "nbformat": 4,
  "nbformat_minor": 0
}